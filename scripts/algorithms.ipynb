{
 "cells": [
  {
   "cell_type": "markdown",
   "metadata": {},
   "source": [
    "# About\n",
    "\n",
    "Popular problems from LeetCode. In each block, we go over the solution to\n",
    "a different problem.\n",
    "\n",
    "LINKS:\n",
    " - Google spreadsheet: https://docs.google.com/spreadsheets/d/1A2PaQKcdwO_lwxz9bAnxXnIQayCouZP6d-ENrBz_NXc/edit#gid=0"
   ]
  },
  {
   "cell_type": "markdown",
   "metadata": {},
   "source": [
    "# Libraries"
   ]
  },
  {
   "cell_type": "code",
   "execution_count": 16,
   "metadata": {},
   "outputs": [],
   "source": [
    "import numpy as np\n",
    "import matplotlib.pyplot as plt"
   ]
  },
  {
   "cell_type": "markdown",
   "metadata": {},
   "source": [
    "# Problems"
   ]
  },
  {
   "cell_type": "markdown",
   "metadata": {},
   "source": [
    "## Two sum\n",
    "\n",
    "Given an array of integers, return indices of the two numbers such that they add up to a specific target.\n",
    "\n",
    "You may assume that each input would have exactly one solution, and you may not use the same element twice."
   ]
  },
  {
   "cell_type": "code",
   "execution_count": 17,
   "metadata": {},
   "outputs": [],
   "source": [
    "def twoSum(nums, target):\n",
    "\n",
    "    # Hashmap: Single pass through list\n",
    "    # Val : index\n",
    "    prevMap = {}\n",
    "\n",
    "    for i, n in enumerate(nums):\n",
    "        diff = target - n\n",
    "        if diff in prevMap:\n",
    "            return [prevMap[diff], i]\n",
    "        prevMap[n] = i\n",
    "    return\n",
    "    \n",
    "X = twoSum([2,1,3,5], 4)"
   ]
  },
  {
   "cell_type": "markdown",
   "metadata": {},
   "source": [
    "## Best time to buy and sell stock\n",
    "\n",
    "Say you have an array for the ith element is the price of a given stock on\n",
    "day $i$.delattr\n",
    "\n",
    "If you were only permitted to complete one transaction (buy one, sell later),\n",
    "what is the maximum profit?"
   ]
  },
  {
   "cell_type": "code",
   "execution_count": 18,
   "metadata": {},
   "outputs": [],
   "source": [
    "def maxProfit(timeSeries):\n",
    "\n",
    "    maxProfit = 0\n",
    "    profit = 0\n",
    "    l, r = 0, 1 # Left = buy, right = sell\n",
    "\n",
    "    # Scales O(n)\n",
    "    while r < len(timeSeries):\n",
    "        \n",
    "        # Profitable?\n",
    "        if timeSeries[l] < timeSeries[r]:\n",
    "            profit = timeSeries[r] - timeSeries[l]\n",
    "            maxProfit = max(maxProfit, profit)\n",
    "        \n",
    "        else:\n",
    "            l = r\n",
    "        r += 1\n",
    "    \n",
    "    return maxProfit"
   ]
  },
  {
   "cell_type": "markdown",
   "metadata": {},
   "source": [
    "# Contains duplicate\n",
    "\n",
    "Given an integer array of `nums`, return `True` if any value appears at least twice in the array, and `False` if every element is distinct."
   ]
  },
  {
   "cell_type": "code",
   "execution_count": 19,
   "metadata": {},
   "outputs": [],
   "source": [
    "def containsDuplicate(nums):\n",
    "\n",
    "    hashset = set()\n",
    "    for n in nums:\n",
    "        if n in hashset:\n",
    "            return True\n",
    "        hashset.add(n)\n",
    "    return False"
   ]
  },
  {
   "cell_type": "markdown",
   "metadata": {},
   "source": [
    "# Product of array except self\n",
    "\n",
    "Given an integer array `nums`, return an array `answer` such that `answer[i]` is equal to the product of all the elements of `nums` except `nums[i]`.\n",
    "\n",
    "You cannot use the division operation, and you must write an algorithm that runs in $O(n)$.\n",
    "\n",
    "Solution: Use the following decomposition.\n",
    "\n",
    "$$ \\prod_{k \\neq n}^N k = \\prod_{k < n}^N k \\times \\prod_{k > n}^N k$$\n",
    "\n",
    "where the first product is the prefix, and the second is the postfix."
   ]
  },
  {
   "cell_type": "code",
   "execution_count": 20,
   "metadata": {},
   "outputs": [],
   "source": [
    "def productExceptSelf(nums):\n",
    "\n",
    "    prods = [1] * len(nums)\n",
    "    prefix = 1\n",
    "    for i in range(len(nums)):\n",
    "        \n",
    "        # Store all prefix products into prods\n",
    "        prods[i] = prefix\n",
    "        prefix *= nums[i]\n",
    "\n",
    "    # Adjust prods by multiplying by postfix\n",
    "    postfix = 1\n",
    "    for i in range(len(nums)-1, -1, -1):\n",
    "        prods[i] *= postfix\n",
    "        postfix *= nums[i]\n",
    "\n",
    "    return prods"
   ]
  },
  {
   "cell_type": "markdown",
   "metadata": {},
   "source": [
    "# Maximum subarray\n",
    "\n",
    "Given an integer array `nums`, find the contiguous subarray (containing at least one number, consecutive indices), which has the largest sum and return its sum.\n",
    "\n",
    "Solution: Use the following decomposition.\n",
    "\n",
    "$$\\sum_{m \\leq k \\leq n} k = \\sum_{k \\leq n} k - \\sum_{k < m} k$$\n",
    "\n",
    "Here, we maximize and minimize the first and second sum over $n, m$ respectively."
   ]
  },
  {
   "cell_type": "code",
   "execution_count": 21,
   "metadata": {},
   "outputs": [],
   "source": [
    "def maxSubarray(nums):\n",
    "\n",
    "    l = 0 # left index\n",
    "    r = 0 # right index\n",
    "\n",
    "    sum_l = 0 # sum up to index l\n",
    "    sum_r = 0 # sum up to index r\n",
    "    newsum = 0\n",
    "    for i, n in enumerate(nums): # Index, numeber\n",
    "        \n",
    "        newsum += n \n",
    "        if newsum < sum_l:\n",
    "            sum_l = newsum\n",
    "            l = i\n",
    "        if newsum >= sum_r:\n",
    "            sum_r = newsum\n",
    "            r = i\n",
    "\n",
    "    return (l,r, sum_r - sum_l)"
   ]
  },
  {
   "cell_type": "markdown",
   "metadata": {},
   "source": [
    "# Maximum product subarray\n",
    "\n",
    "Given an integer array `nums`, find the contiguous subarray (containing at least one number, consecutive indices), which has the largest product and return the product.\n",
    "\n",
    "Solution: Observe that the lower bounding index of the subarray product is either 0 (first entry) or the subsequent index following a zero entry. Then, we just need to find the upper bounding index.\n"
   ]
  },
  {
   "cell_type": "code",
   "execution_count": 22,
   "metadata": {},
   "outputs": [],
   "source": [
    "def maxProdSubarray(nums):\n",
    "    res = max(nums)\n",
    "    curMin, curMax = 1, 1\n",
    "\n",
    "    for n in nums:\n",
    "        # Reset if 0\n",
    "        if n == 0:\n",
    "            curMin, curMax = 1, 1\n",
    "            continue\n",
    "        tmp = curMax * n\n",
    "        curMax = max(curMax * n, n * curMin, n)\n",
    "        curMin = min(curMin * n, n * curMax, n)\n",
    "        res = max(res, curMax, curMin)\n",
    "    \n",
    "    return res"
   ]
  },
  {
   "cell_type": "markdown",
   "metadata": {},
   "source": [
    "# Find minimum in rotated sorted array\n",
    "\n",
    "Suppose an array of length `n` in ascending order is rotated between `1` and `n` times. For example, the array `nums = [0,1,2,4,5,6,7]` might become `[4,5,6,7,0,1,2]` if it was rotated `4` times.\n",
    "\n",
    "Given the sorted rotated array `nums` of unique elements, return the minimum element of this array.\n",
    "\n",
    "You must write an algorithm in $O(\\log n)$ time.\n",
    "\n",
    "Solution: Iterate over the midpoint value between left and right pointers. Shift either the left or right pointer to the midpoint index."
   ]
  },
  {
   "cell_type": "code",
   "execution_count": 23,
   "metadata": {},
   "outputs": [],
   "source": [
    "def minRotatedSortedArray(nums):\n",
    "\n",
    "    res = nums[0]\n",
    "    l, r = 0, len(nums) - 1 # left, right pointer\n",
    "    while l <= r:\n",
    "        \n",
    "        if nums[l] < nums[r]:\n",
    "            res = min(res, nums[l])\n",
    "            break\n",
    "\n",
    "        m = (l + r) // 2 # Midpoint\n",
    "        res = min(res, nums[m])\n",
    "        if nums[m] >= nums[l]:\n",
    "            l = m + 1 # Search to the right (we're in left array)\n",
    "        else:\n",
    "            r = m - 1 # Search to the left (we're in right array)\n",
    "    \n",
    "    return res"
   ]
  },
  {
   "cell_type": "code",
   "execution_count": null,
   "metadata": {},
   "outputs": [],
   "source": []
  }
 ],
 "metadata": {
  "interpreter": {
   "hash": "13427881f06f13311079f5221e5dd632fdf9146891f6da22d47a93dcb9272d3a"
  },
  "kernelspec": {
   "display_name": "Python 3.8.8 ('base')",
   "language": "python",
   "name": "python3"
  },
  "language_info": {
   "codemirror_mode": {
    "name": "ipython",
    "version": 3
   },
   "file_extension": ".py",
   "mimetype": "text/x-python",
   "name": "python",
   "nbconvert_exporter": "python",
   "pygments_lexer": "ipython3",
   "version": "3.8.8"
  },
  "orig_nbformat": 4
 },
 "nbformat": 4,
 "nbformat_minor": 2
}
