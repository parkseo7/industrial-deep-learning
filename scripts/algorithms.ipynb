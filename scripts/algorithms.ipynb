{
 "cells": [
  {
   "cell_type": "markdown",
   "metadata": {},
   "source": [
    "# About\n",
    "\n",
    "Popular problems from LeetCode. In each block, we go over the solution to\n",
    "a different problem.\n",
    "\n",
    "LINKS:\n",
    " - Google spreadsheet: https://docs.google.com/spreadsheets/d/1A2PaQKcdwO_lwxz9bAnxXnIQayCouZP6d-ENrBz_NXc/edit#gid=0"
   ]
  },
  {
   "cell_type": "markdown",
   "metadata": {},
   "source": [
    "# Libraries"
   ]
  },
  {
   "cell_type": "code",
   "execution_count": null,
   "metadata": {},
   "outputs": [],
   "source": []
  },
  {
   "cell_type": "markdown",
   "metadata": {},
   "source": [
    "# Problems"
   ]
  },
  {
   "cell_type": "markdown",
   "metadata": {},
   "source": [
    "## Two sum\n",
    "\n",
    "Given an array of integers, return indices of the two numbers such that they add up to a specific target.\n",
    "\n",
    "You may assume that each input would have exactly one solution, and you may not use the same element twice."
   ]
  },
  {
   "cell_type": "code",
   "execution_count": 2,
   "metadata": {},
   "outputs": [],
   "source": [
    "def twoSum(nums, target):\n",
    "\n",
    "    # Hashmap: Single pass through list\n",
    "    # Val : index\n",
    "    prevMap = {}\n",
    "\n",
    "    for i, n in enumerate(nums):\n",
    "        diff = target - n\n",
    "        if diff in prevMap:\n",
    "            return [prevMap[diff], i]\n",
    "        prevMap[n] = i\n",
    "    return\n",
    "    \n",
    "X = twoSum([2,1,3,5], 4)"
   ]
  },
  {
   "cell_type": "markdown",
   "metadata": {},
   "source": [
    "## Best time to buy and sell stock\n",
    "\n",
    "Say you have an array for the ith element is the price of a given stock on\n",
    "day $i$.delattr\n",
    "\n",
    "If you were only permitted to complete one transaction (buy one, sell later),\n",
    "what is the maximum profit?"
   ]
  },
  {
   "cell_type": "code",
   "execution_count": null,
   "metadata": {},
   "outputs": [],
   "source": [
    "def maxProfit(timeSeries):\n",
    "\n",
    "    maxProfit = 0\n",
    "    profit = 0\n",
    "    l, r = 0, 1 # Left = buy, right = sell\n",
    "\n",
    "    # Scales O(n)\n",
    "    while r < len(timeSeries):\n",
    "        \n",
    "        # Profitable?\n",
    "        if timeSeries[l] < timeSeries[r]:\n",
    "            profit = timeSeries[r] - timeSeries[l]\n",
    "            maxProfit = max(maxProfit, profit)\n",
    "        \n",
    "        else:\n",
    "            l = r\n",
    "        r += 1\n",
    "    \n",
    "    return maxProfit"
   ]
  }
 ],
 "metadata": {
  "interpreter": {
   "hash": "13427881f06f13311079f5221e5dd632fdf9146891f6da22d47a93dcb9272d3a"
  },
  "kernelspec": {
   "display_name": "Python 3.8.8 ('base')",
   "language": "python",
   "name": "python3"
  },
  "language_info": {
   "codemirror_mode": {
    "name": "ipython",
    "version": 3
   },
   "file_extension": ".py",
   "mimetype": "text/x-python",
   "name": "python",
   "nbconvert_exporter": "python",
   "pygments_lexer": "ipython3",
   "version": "3.8.8"
  },
  "orig_nbformat": 4
 },
 "nbformat": 4,
 "nbformat_minor": 2
}
