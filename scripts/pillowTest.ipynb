{
 "cells": [
  {
   "cell_type": "markdown",
   "metadata": {},
   "source": [
    "# Libraries"
   ]
  },
  {
   "cell_type": "code",
   "execution_count": 1,
   "metadata": {},
   "outputs": [],
   "source": [
    "%matplotlib inline\n",
    "# Toggle on/off\n",
    "# %matplotlib notebook\n",
    "\n",
    "import os, sys\n",
    "import numpy as np\n",
    "import matplotlib.pyplot as plt\n",
    "from PIL import Image\n",
    "from PIL import ImageFilter\n",
    "from PIL import ImageEnhance\n",
    "\n",
    "from IPython.display import clear_output"
   ]
  },
  {
   "cell_type": "markdown",
   "metadata": {},
   "source": [
    "# Directories"
   ]
  },
  {
   "cell_type": "code",
   "execution_count": 2,
   "metadata": {},
   "outputs": [],
   "source": [
    "dirImages = os.path.join(os.getcwd(), 'images')"
   ]
  },
  {
   "cell_type": "markdown",
   "metadata": {},
   "source": [
    "# Pillow tutorial\n",
    "\n",
    "Here, we test some scripts from Pillow for some basic image processing.\n",
    "The aim is to familiarize with the tutorial, given here: https://pillow.readthedocs.io/en/stable/handbook/tutorial.html"
   ]
  },
  {
   "cell_type": "markdown",
   "metadata": {},
   "source": [
    "## Image processing"
   ]
  },
  {
   "cell_type": "markdown",
   "metadata": {},
   "source": [
    "### Import an image"
   ]
  },
  {
   "cell_type": "code",
   "execution_count": 25,
   "metadata": {},
   "outputs": [],
   "source": [
    "dirImage = os.path.join(dirImages, 'barbara.png')\n",
    "im = Image.open(dirImage)\n",
    "imJPG = im.convert(\"RGB\") # Convert image to RGB so that it can be exported as a JPG (JPG doesn't read alpha)\n",
    "imJPG.save(os.path.join(dirImages, 'barbara0.jpg')) # Save as JPG\n",
    "# im.show()"
   ]
  },
  {
   "cell_type": "markdown",
   "metadata": {},
   "source": [
    "### Rearranging colours"
   ]
  },
  {
   "cell_type": "code",
   "execution_count": 4,
   "metadata": {},
   "outputs": [],
   "source": [
    "r, g, b, a = im.split()\n",
    "im1 = Image.merge(\"RGB\", (r,g,b)) # Same image\n",
    "im2 = Image.merge(\"RGB\", (b,g,r)) # Rearranged r,g,b\n",
    "# im2.show()\n",
    "im1.save(os.path.join(dirImages, 'barbara.jpg')) # Image merge must be used first for RGB to make jpg\n",
    "im2.save(os.path.join(dirImages, 'barbara2.png')) # Do not use file extension as 2nd argument"
   ]
  },
  {
   "cell_type": "markdown",
   "metadata": {},
   "source": [
    "### Transforming the image"
   ]
  },
  {
   "cell_type": "code",
   "execution_count": 5,
   "metadata": {},
   "outputs": [],
   "source": [
    "outResize = im.resize((128, 128)) # Resize an image\n",
    "outRotate = im.rotate(45) # Rotate the image counterclockwise 45 degrees\n",
    "outFlipH = im.transpose(Image.FLIP_LEFT_RIGHT) # Reflect image horizontally\n",
    "outFlipV = im.transpose(Image.FLIP_TOP_BOTTOM) # Reflect image vertically\n",
    "outRotate90 = im.transpose(Image.ROTATE_90) # Rotate image counterclockwise 90 degrees\n",
    "# outRotate90.show()"
   ]
  },
  {
   "cell_type": "markdown",
   "metadata": {},
   "source": [
    "### Colour transforms"
   ]
  },
  {
   "cell_type": "code",
   "execution_count": 6,
   "metadata": {},
   "outputs": [],
   "source": [
    "# Alternative way of handling image without assigning it to a variable:\n",
    "with Image.open(dirImage) as im_:\n",
    "    im2 = im_.convert('L') # Convert to greyscale\n",
    "# im2.show()"
   ]
  },
  {
   "cell_type": "markdown",
   "metadata": {},
   "source": [
    "### Enhancing an image"
   ]
  },
  {
   "cell_type": "code",
   "execution_count": 7,
   "metadata": {},
   "outputs": [],
   "source": [
    "outFilter = im.filter(ImageFilter.DETAIL) # Enhancement filter\n",
    "outPoint = im.point(lambda i: i * 1.2) # Multiply pixel values by 1.2 (brighter)\n",
    "# outPoint.show()"
   ]
  },
  {
   "cell_type": "markdown",
   "metadata": {},
   "source": [
    "### Processing individual bands"
   ]
  },
  {
   "cell_type": "code",
   "execution_count": 8,
   "metadata": {},
   "outputs": [],
   "source": [
    "source = im.split() # (r,g,b,a) tuple\n",
    "R, G, B = 0, 1, 2\n",
    "\n",
    "# Select mask region:\n",
    "mask = source[B].point(lambda i: i > 50 and 255) # Returns 255 if i < 100 is false\n",
    "\n",
    "# Process the green band\n",
    "out = source[G].point(lambda i: i * 0.4)\n",
    "\n",
    "# Paste the processed band back onto the masked region\n",
    "source[G].paste(out, None, mask)\n",
    "\n",
    "# Build a new image\n",
    "imNew = Image.merge(im.mode, source) # im.mode = RGBA\n",
    "# mask.show()\n",
    "# imNew.show()"
   ]
  },
  {
   "cell_type": "markdown",
   "metadata": {},
   "source": [
    "### Enhancing images"
   ]
  },
  {
   "cell_type": "code",
   "execution_count": 9,
   "metadata": {},
   "outputs": [],
   "source": [
    "enh = ImageEnhance.Contrast(im)\n",
    "# enh.enhance(1.5).show('30% more contrast') # Enhance contrast by 1.5"
   ]
  },
  {
   "cell_type": "code",
   "execution_count": 36,
   "metadata": {},
   "outputs": [
    {
     "name": "stdout",
     "output_type": "stream",
     "text": [
      "[226 206 170 255]\n"
     ]
    },
    {
     "data": {
      "text/plain": [
       "array([1, 2, 3, 4])"
      ]
     },
     "execution_count": 36,
     "metadata": {},
     "output_type": "execute_result"
    }
   ],
   "source": [
    "pxls = np.array(im)\n",
    "# Access the RGBA of pixel 125, 125:\n",
    "print(pxls[125,125])"
   ]
  },
  {
   "cell_type": "markdown",
   "metadata": {},
   "source": [
    "## Image operations\n",
    "\n",
    "See https://pillow.readthedocs.io/en/latest/reference/Image.html for a complete list of operations"
   ]
  },
  {
   "cell_type": "code",
   "execution_count": 10,
   "metadata": {},
   "outputs": [],
   "source": [
    "dirImage1 = os.path.join(dirImages, 'hutao.png')\n",
    "dirImage2 = os.path.join(dirImages, 'lisa.png')\n",
    "imA = Image.open(dirImage1)\n",
    "imB = Image.open(dirImage2)\n",
    "\n",
    "# Blend the two images\n",
    "alp = 0.6\n",
    "outInter = Image.blend(imA, imB, alp)"
   ]
  },
  {
   "cell_type": "markdown",
   "metadata": {},
   "source": [
    "## Custom plugins"
   ]
  },
  {
   "cell_type": "code",
   "execution_count": 11,
   "metadata": {},
   "outputs": [
    {
     "name": "stdout",
     "output_type": "stream",
     "text": [
      "RGB (250, 250)\n",
      "[('zip', (0, 0, 250, 250), 41, 'RGB')]\n"
     ]
    }
   ],
   "source": [
    "import SpamImagePlugin\n",
    "with Image.open(os.path.join(dirImages, \"barbara.spam\")) as imSpam:\n",
    "    # imSpam.show() # Show the spam image\n",
    "    print(imSpam.mode, imSpam.size) # Mode + size\n",
    "    print(imSpam.tile)"
   ]
  }
 ],
 "metadata": {
  "kernelspec": {
   "display_name": "Python 3",
   "language": "python",
   "name": "python3"
  },
  "language_info": {
   "codemirror_mode": {
    "name": "ipython",
    "version": 3
   },
   "file_extension": ".py",
   "mimetype": "text/x-python",
   "name": "python",
   "nbconvert_exporter": "python",
   "pygments_lexer": "ipython3",
   "version": "3.6.5"
  }
 },
 "nbformat": 4,
 "nbformat_minor": 2
}
